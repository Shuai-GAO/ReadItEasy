{
 "cells": [
  {
   "cell_type": "code",
   "execution_count": 1,
   "metadata": {},
   "outputs": [],
   "source": [
    "import os"
   ]
  },
  {
   "cell_type": "code",
   "execution_count": 7,
   "metadata": {},
   "outputs": [],
   "source": [
    "path_books = '../../data/books'\n",
    "list_books = os.listdir(path_books)"
   ]
  },
  {
   "cell_type": "code",
   "execution_count": 50,
   "metadata": {},
   "outputs": [
    {
     "name": "stdout",
     "output_type": "stream",
     "text": [
      "534.txt\n"
     ]
    }
   ],
   "source": [
    "book = list_books[1]\n",
    "print(book)\n",
    "with open(os.path.join(path_books,book), 'r') as f:\n",
    "    txt = f.read()"
   ]
  },
  {
   "cell_type": "code",
   "execution_count": 18,
   "metadata": {},
   "outputs": [],
   "source": [
    "import re"
   ]
  },
  {
   "cell_type": "code",
   "execution_count": 38,
   "metadata": {},
   "outputs": [],
   "source": [
    "counter_jie = len(re.findall('第.{1,5}节', txt))\n",
    "counter_zhang = len(re.findall('第.{1,5}章', txt))"
   ]
  },
  {
   "cell_type": "code",
   "execution_count": 63,
   "metadata": {},
   "outputs": [
    {
     "name": "stdout",
     "output_type": "stream",
     "text": [
      "('节', 24)\n",
      "('章', 22)\n",
      "('节', 64)\n"
     ]
    }
   ],
   "source": [
    "def find_chapter_separator(txt):\n",
    "    \n",
    "    jie_sep = re.findall('第[一二三四五六七八九十百零0-9]{1,5}节[\\n\\\\s\\t]', txt)\n",
    "    zhang_sep = re.findall('第[一二三四五六七八九十百零0-9]{1,5}章[\\n\\\\s\\t]', txt)\n",
    "    \n",
    "    counter_jie = len(jie_sep)\n",
    "    counter_zhang = len(zhang_sep)\n",
    "\n",
    "    if counter_jie > counter_zhang:\n",
    "        sepatator = \"节\"\n",
    "        counter = counter_jie\n",
    "    elif counter_zhang > counter_jie:\n",
    "        sepatator = '章'\n",
    "        counter = counter_zhang\n",
    "    elif (counter_zhang == 0) & (counter_jie == 0):\n",
    "        sepatator = \"Not Found\"\n",
    "        counter = 0\n",
    "\n",
    "    return(sepatator, counter)\n",
    "\n",
    "for book in list_books:\n",
    "    with open(os.path.join(path_books,book), 'r') as f:\n",
    "        txt = f.read()\n",
    "        print(find_chapter_separator(txt))"
   ]
  },
  {
   "cell_type": "code",
   "execution_count": 91,
   "metadata": {},
   "outputs": [
    {
     "data": {
      "text/plain": [
       "[]"
      ]
     },
     "execution_count": 91,
     "metadata": {},
     "output_type": "execute_result"
    }
   ],
   "source": [
    "zhang_sep = re.findall('[\\n\\s\\t]第[一二三四五六七八九十百零0-9]{1,5}章', '\\n第一章')\n",
    "zhang_sep = re.findall('第[一二三四五六七八九十百零0-9]{1,5}章[\\n\\\\s\\t]', '\\n第一章\\s')\n",
    "\n",
    "zhang_sep"
   ]
  },
  {
   "cell_type": "code",
   "execution_count": 73,
   "metadata": {},
   "outputs": [],
   "source": [
    "zhang_sep.append(\"第1321章\")"
   ]
  },
  {
   "cell_type": "code",
   "execution_count": 77,
   "metadata": {},
   "outputs": [
    {
     "name": "stdout",
     "output_type": "stream",
     "text": [
      "一\n",
      "二\n",
      "三\n",
      "四\n",
      "五\n",
      "六\n",
      "七\n",
      "八\n",
      "九\n",
      "十\n",
      "十一\n",
      "十二\n",
      "十三\n",
      "十四\n",
      "十五\n",
      "十六\n",
      "十七\n",
      "二十九\n",
      "十八\n",
      "十九\n",
      "二十\n",
      "二十一\n",
      "1321\n",
      "hanzi\n"
     ]
    }
   ],
   "source": [
    "# start to work on a way to check if it's really a beginning of a chapter.\n",
    "# however, maybe it's smarter to check if \\n \\s \\t follow and/or are followed\n",
    "\n",
    "previous_sep = None\n",
    "next_sep = None\n",
    "zhang = '章' \n",
    "mode = None\n",
    "for n, sep in enumerate(zhang_sep):\n",
    "    sep = sep.rstrip('章').strip('第')\n",
    "    print(sep)\n",
    "    \n",
    "    # check if it's not first one\n",
    "    if n == 0:\n",
    "        if sep.isdigit():\n",
    "            mode = 'digit'\n",
    "        \n",
    "        if sep[-1] in \"一二三四五六七八九十百零\":\n",
    "            mode = 'hanzi'\n",
    "    \n",
    "    else :\n",
    "        if mode = 'digit'\n",
    "    \n",
    "\n",
    "    previous_sep = sep\n",
    "        \n",
    "        \n",
    "    "
   ]
  },
  {
   "cell_type": "code",
   "execution_count": 66,
   "metadata": {},
   "outputs": [
    {
     "name": "stdout",
     "output_type": "stream",
     "text": [
      "534.txt\n"
     ]
    },
    {
     "data": {
      "text/plain": [
       "['第91394节']"
      ]
     },
     "execution_count": 66,
     "metadata": {},
     "output_type": "execute_result"
    }
   ],
   "source": [
    "book = list_books[1]\n",
    "print(book)\n",
    "with open(os.path.join(path_books,book), 'r') as f:\n",
    "    txt = f.read()\n",
    "\n",
    "(re.findall('第[一二三四五六七八九十百零0-9]{1,5}节', '第91394节'))"
   ]
  },
  {
   "cell_type": "code",
   "execution_count": 93,
   "metadata": {},
   "outputs": [
    {
     "ename": "KeyError",
     "evalue": "'1,5'",
     "output_type": "error",
     "traceback": [
      "\u001b[0;31m---------------------------------------------------------------------------\u001b[0m",
      "\u001b[0;31mKeyError\u001b[0m                                  Traceback (most recent call last)",
      "\u001b[0;32m<ipython-input-93-36658fbe5722>\u001b[0m in \u001b[0;36m<module>\u001b[0;34m\u001b[0m\n\u001b[0;32m----> 1\u001b[0;31m \u001b[0mre\u001b[0m\u001b[0;34m.\u001b[0m\u001b[0mfindall\u001b[0m\u001b[0;34m(\u001b[0m\u001b[0;34m'第[一二三四五六七八九十百零0-9]{1,5}{}'\u001b[0m\u001b[0;34m.\u001b[0m\u001b[0mformat\u001b[0m\u001b[0;34m(\u001b[0m\u001b[0;34m'节'\u001b[0m\u001b[0;34m)\u001b[0m\u001b[0;34m,\u001b[0m \u001b[0;34m'第91394节'\u001b[0m\u001b[0;34m)\u001b[0m\u001b[0;34m\u001b[0m\u001b[0;34m\u001b[0m\u001b[0m\n\u001b[0m",
      "\u001b[0;31mKeyError\u001b[0m: '1,5'"
     ]
    }
   ],
   "source": [
    "re.findall('第[一二三四五六七八九十百零0-9]{1,5}{}'.format('节'), '第91394节')"
   ]
  },
  {
   "cell_type": "code",
   "execution_count": null,
   "metadata": {},
   "outputs": [],
   "source": []
  }
 ],
 "metadata": {
  "kernelspec": {
   "display_name": "Python 3",
   "language": "python",
   "name": "python3"
  },
  "language_info": {
   "codemirror_mode": {
    "name": "ipython",
    "version": 3
   },
   "file_extension": ".py",
   "mimetype": "text/x-python",
   "name": "python",
   "nbconvert_exporter": "python",
   "pygments_lexer": "ipython3",
   "version": "3.7.5"
  }
 },
 "nbformat": 4,
 "nbformat_minor": 2
}
